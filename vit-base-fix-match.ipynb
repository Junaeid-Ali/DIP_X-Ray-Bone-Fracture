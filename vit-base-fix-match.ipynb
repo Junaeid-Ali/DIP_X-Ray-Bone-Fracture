{
 "cells": [
  {
   "cell_type": "code",
   "execution_count": 1,
   "id": "7756d1e7",
   "metadata": {
    "execution": {
     "iopub.execute_input": "2025-08-30T17:51:31.916705Z",
     "iopub.status.busy": "2025-08-30T17:51:31.916400Z",
     "iopub.status.idle": "2025-08-30T17:51:45.772977Z",
     "shell.execute_reply": "2025-08-30T17:51:45.772350Z"
    },
    "papermill": {
     "duration": 13.863151,
     "end_time": "2025-08-30T17:51:45.774305",
     "exception": false,
     "start_time": "2025-08-30T17:51:31.911154",
     "status": "completed"
    },
    "tags": []
   },
   "outputs": [],
   "source": [
    "import json\n",
    "from sklearn.metrics import precision_recall_fscore_support\n",
    "from sklearn.metrics import accuracy_score, precision_recall_fscore_support\n",
    "\n",
    "\n",
    "import os\n",
    "import random\n",
    "import torch\n",
    "import numpy as np\n",
    "from torchvision import datasets, transforms\n",
    "from torch.utils.data import Dataset, DataLoader, Subset\n",
    "import timm\n",
    "import torch.nn.functional as F\n",
    "from sklearn.metrics import accuracy_score, precision_score, recall_score, f1_score\n",
    "import matplotlib.pyplot as plt\n",
    "from sklearn.model_selection import train_test_split\n",
    "\n",
    "\n",
    "device = torch.device('cuda' if torch.cuda.is_available() else 'cpu')\n",
    "SEED = 42\n",
    "random.seed(SEED)\n",
    "np.random.seed(SEED)\n",
    "torch.manual_seed(SEED)\n",
    "torch.cuda.manual_seed_all(SEED)\n",
    "\n",
    "data_dir = \"/kaggle/input/x-ray-bone-fracture-dataset/X-ray Bone Fracture Dataset Comprehensive Imaging for Fracture Classification and Medical Research/Bone -Fracture/Bone Fracture/Orginal\"\n"
   ]
  },
  {
   "cell_type": "markdown",
   "id": "88f2e009",
   "metadata": {
    "papermill": {
     "duration": 0.003427,
     "end_time": "2025-08-30T17:51:45.781856",
     "exception": false,
     "start_time": "2025-08-30T17:51:45.778429",
     "status": "completed"
    },
    "tags": []
   },
   "source": [
    "# Load Dataset"
   ]
  },
  {
   "cell_type": "code",
   "execution_count": 2,
   "id": "6056cff3",
   "metadata": {
    "execution": {
     "iopub.execute_input": "2025-08-30T17:51:45.789470Z",
     "iopub.status.busy": "2025-08-30T17:51:45.789268Z",
     "iopub.status.idle": "2025-08-30T17:51:49.557269Z",
     "shell.execute_reply": "2025-08-30T17:51:49.556591Z"
    },
    "papermill": {
     "duration": 3.773382,
     "end_time": "2025-08-30T17:51:49.558643",
     "exception": false,
     "start_time": "2025-08-30T17:51:45.785261",
     "status": "completed"
    },
    "tags": []
   },
   "outputs": [],
   "source": [
    "data_dir = \"/kaggle/input/x-ray-bone-fracture-dataset/X-ray Bone Fracture Dataset Comprehensive Imaging for Fracture Classification and Medical Research/Bone -Fracture/Bone Fracture/Orginal\"\n",
    "\n",
    "from torchvision import datasets\n",
    "full_dataset = datasets.ImageFolder(root=data_dir)\n",
    "dataset_size = len(full_dataset)\n",
    "targets = full_dataset.targets  # list of labels\n"
   ]
  },
  {
   "cell_type": "markdown",
   "id": "4f149193",
   "metadata": {
    "papermill": {
     "duration": 0.003521,
     "end_time": "2025-08-30T17:51:49.566171",
     "exception": false,
     "start_time": "2025-08-30T17:51:49.562650",
     "status": "completed"
    },
    "tags": []
   },
   "source": [
    "# Split the dataset (Train, Test, Validation)"
   ]
  },
  {
   "cell_type": "code",
   "execution_count": 3,
   "id": "5ee10b45",
   "metadata": {
    "execution": {
     "iopub.execute_input": "2025-08-30T17:51:49.574096Z",
     "iopub.status.busy": "2025-08-30T17:51:49.573870Z",
     "iopub.status.idle": "2025-08-30T17:51:49.584233Z",
     "shell.execute_reply": "2025-08-30T17:51:49.583767Z"
    },
    "papermill": {
     "duration": 0.015743,
     "end_time": "2025-08-30T17:51:49.585403",
     "exception": false,
     "start_time": "2025-08-30T17:51:49.569660",
     "status": "completed"
    },
    "tags": []
   },
   "outputs": [],
   "source": [
    "indices = list(range(dataset_size))\n",
    "\n",
    "train_indices, temp_indices = train_test_split(\n",
    "    indices, test_size=0.2, stratify=[targets[i] for i in indices], random_state=SEED)\n"
   ]
  },
  {
   "cell_type": "code",
   "execution_count": 4,
   "id": "fa08df70",
   "metadata": {
    "execution": {
     "iopub.execute_input": "2025-08-30T17:51:49.593090Z",
     "iopub.status.busy": "2025-08-30T17:51:49.592888Z",
     "iopub.status.idle": "2025-08-30T17:51:49.597681Z",
     "shell.execute_reply": "2025-08-30T17:51:49.597185Z"
    },
    "papermill": {
     "duration": 0.009738,
     "end_time": "2025-08-30T17:51:49.598670",
     "exception": false,
     "start_time": "2025-08-30T17:51:49.588932",
     "status": "completed"
    },
    "tags": []
   },
   "outputs": [],
   "source": [
    "val_indices, test_indices = train_test_split(\n",
    "    temp_indices, test_size=0.5, stratify=[targets[i] for i in temp_indices], random_state=SEED)\n"
   ]
  },
  {
   "cell_type": "markdown",
   "id": "3b288ade",
   "metadata": {
    "papermill": {
     "duration": 0.003456,
     "end_time": "2025-08-30T17:51:49.605674",
     "exception": false,
     "start_time": "2025-08-30T17:51:49.602218",
     "status": "completed"
    },
    "tags": []
   },
   "source": [
    "# Split Train (Label, Unlabel)"
   ]
  },
  {
   "cell_type": "code",
   "execution_count": 5,
   "id": "0ffcf4bf",
   "metadata": {
    "execution": {
     "iopub.execute_input": "2025-08-30T17:51:49.613270Z",
     "iopub.status.busy": "2025-08-30T17:51:49.613092Z",
     "iopub.status.idle": "2025-08-30T17:51:49.617501Z",
     "shell.execute_reply": "2025-08-30T17:51:49.616975Z"
    },
    "papermill": {
     "duration": 0.009366,
     "end_time": "2025-08-30T17:51:49.618537",
     "exception": false,
     "start_time": "2025-08-30T17:51:49.609171",
     "status": "completed"
    },
    "tags": []
   },
   "outputs": [],
   "source": [
    "train_targets = [targets[i] for i in train_indices]\n",
    "num_train = len(train_indices)\n",
    "num_labeled = int(0.4* num_train)\n",
    "\n",
    "random.seed(SEED)\n",
    "shuffled_train_indices = train_indices.copy()\n",
    "random.shuffle(shuffled_train_indices)\n",
    "\n",
    "labeled_indices = shuffled_train_indices[:num_labeled]\n",
    "unlabeled_indices = shuffled_train_indices[num_labeled:]\n"
   ]
  },
  {
   "cell_type": "code",
   "execution_count": 6,
   "id": "a3a7b2ef",
   "metadata": {
    "execution": {
     "iopub.execute_input": "2025-08-30T17:51:49.626192Z",
     "iopub.status.busy": "2025-08-30T17:51:49.626022Z",
     "iopub.status.idle": "2025-08-30T17:51:49.632425Z",
     "shell.execute_reply": "2025-08-30T17:51:49.631791Z"
    },
    "papermill": {
     "duration": 0.011352,
     "end_time": "2025-08-30T17:51:49.633354",
     "exception": false,
     "start_time": "2025-08-30T17:51:49.622002",
     "status": "completed"
    },
    "tags": []
   },
   "outputs": [
    {
     "name": "stdout",
     "output_type": "stream",
     "text": [
      "Saved splits.json with 1907 train, 238 val, 239 test samples.\n",
      "Labeled train: 762 samples, Unlabeled train: 1145 samples\n"
     ]
    }
   ],
   "source": [
    "splits = {\n",
    "    \"train\": train_indices,\n",
    "    \"val\": val_indices,\n",
    "    \"test\": test_indices,\n",
    "    \"train_labeled\": labeled_indices,\n",
    "    \"train_unlabeled\": unlabeled_indices\n",
    "}\n",
    "\n",
    "output_path = \"./splits.json\"  # current notebook directory\n",
    "with open(output_path, \"w\") as f:\n",
    "    json.dump(splits, f)\n",
    "\n",
    "print(f\"Saved splits.json with {len(train_indices)} train, {len(val_indices)} val, {len(test_indices)} test samples.\")\n",
    "print(f\"Labeled train: {len(labeled_indices)} samples, Unlabeled train: {len(unlabeled_indices)} samples\")\n"
   ]
  },
  {
   "cell_type": "markdown",
   "id": "2b478240",
   "metadata": {
    "papermill": {
     "duration": 0.003392,
     "end_time": "2025-08-30T17:51:49.640909",
     "exception": false,
     "start_time": "2025-08-30T17:51:49.637517",
     "status": "completed"
    },
    "tags": []
   },
   "source": [
    "# Transformation"
   ]
  },
  {
   "cell_type": "code",
   "execution_count": 7,
   "id": "9ed6c73b",
   "metadata": {
    "execution": {
     "iopub.execute_input": "2025-08-30T17:51:49.648547Z",
     "iopub.status.busy": "2025-08-30T17:51:49.648346Z",
     "iopub.status.idle": "2025-08-30T17:51:49.654040Z",
     "shell.execute_reply": "2025-08-30T17:51:49.653553Z"
    },
    "papermill": {
     "duration": 0.010773,
     "end_time": "2025-08-30T17:51:49.655117",
     "exception": false,
     "start_time": "2025-08-30T17:51:49.644344",
     "status": "completed"
    },
    "tags": []
   },
   "outputs": [],
   "source": [
    "# Base transform for validation and labeled data\n",
    "base_transform = transforms.Compose([\n",
    "    transforms.Resize((224, 224)),\n",
    "    transforms.ToTensor(),\n",
    "    transforms.Normalize(mean=[0.485, 0.456, 0.406],\n",
    "                         std=[0.229, 0.224, 0.225])\n",
    "])\n",
    "\n",
    "# Weak augmentation (like base but with random flip)\n",
    "weak_transform = transforms.Compose([\n",
    "    transforms.Resize((224, 224)),\n",
    "    transforms.RandomRotation(15),                \n",
    "    transforms.ColorJitter(brightness=0.3,     \n",
    "                           contrast=0.3,\n",
    "                           saturation=0.3,\n",
    "                           hue=0.1),\n",
    "    \n",
    "   \n",
    "    transforms.RandomHorizontalFlip(),\n",
    "    transforms.ToTensor(),\n",
    "    transforms.Normalize(mean=[0.485, 0.456, 0.406],\n",
    "                         std=[0.229, 0.224, 0.225])\n",
    "    \n",
    "])\n",
    "\n",
    "# Strong augmentation (RandAugment or similar)\n",
    "from torchvision.transforms import RandAugment\n",
    "\n",
    "strong_transform = transforms.Compose([\n",
    "    transforms.Resize((224, 224)),\n",
    "    RandAugment(), \n",
    "    transforms.RandomRotation(15),               \n",
    "    transforms.ColorJitter(brightness=0.3,       \n",
    "                           contrast=0.3,\n",
    "                           saturation=0.3,\n",
    "                           hue=0.1),\n",
    "   \n",
    "    transforms.ToTensor(),\n",
    "    transforms.Normalize(mean=[0.485, 0.456, 0.406],\n",
    "                         std=[0.229, 0.224, 0.225])\n",
    "                             \n",
    "])\n"
   ]
  },
  {
   "cell_type": "markdown",
   "id": "4ddade65",
   "metadata": {
    "papermill": {
     "duration": 0.003411,
     "end_time": "2025-08-30T17:51:49.662110",
     "exception": false,
     "start_time": "2025-08-30T17:51:49.658699",
     "status": "completed"
    },
    "tags": []
   },
   "source": [
    "# Create Subsets from full dataset"
   ]
  },
  {
   "cell_type": "code",
   "execution_count": 8,
   "id": "ca15f8a3",
   "metadata": {
    "execution": {
     "iopub.execute_input": "2025-08-30T17:51:49.670992Z",
     "iopub.status.busy": "2025-08-30T17:51:49.670777Z",
     "iopub.status.idle": "2025-08-30T17:51:49.674242Z",
     "shell.execute_reply": "2025-08-30T17:51:49.673749Z"
    },
    "papermill": {
     "duration": 0.008532,
     "end_time": "2025-08-30T17:51:49.675203",
     "exception": false,
     "start_time": "2025-08-30T17:51:49.666671",
     "status": "completed"
    },
    "tags": []
   },
   "outputs": [],
   "source": [
    "train_subset = Subset(full_dataset, train_indices)\n",
    "val_subset = Subset(full_dataset, val_indices)\n",
    "test_subset = Subset(full_dataset, test_indices)\n",
    "\n",
    "labeled_subset = Subset(full_dataset, labeled_indices)\n",
    "unlabeled_subset = Subset(full_dataset, unlabeled_indices)\n"
   ]
  },
  {
   "cell_type": "markdown",
   "id": "6d64d475",
   "metadata": {
    "papermill": {
     "duration": 0.003338,
     "end_time": "2025-08-30T17:51:49.682136",
     "exception": false,
     "start_time": "2025-08-30T17:51:49.678798",
     "status": "completed"
    },
    "tags": []
   },
   "source": [
    "# Custom Dataset"
   ]
  },
  {
   "cell_type": "code",
   "execution_count": 9,
   "id": "4e71fa76",
   "metadata": {
    "execution": {
     "iopub.execute_input": "2025-08-30T17:51:49.689682Z",
     "iopub.status.busy": "2025-08-30T17:51:49.689508Z",
     "iopub.status.idle": "2025-08-30T17:51:49.694369Z",
     "shell.execute_reply": "2025-08-30T17:51:49.693901Z"
    },
    "papermill": {
     "duration": 0.009758,
     "end_time": "2025-08-30T17:51:49.695369",
     "exception": false,
     "start_time": "2025-08-30T17:51:49.685611",
     "status": "completed"
    },
    "tags": []
   },
   "outputs": [],
   "source": [
    "class LabeledDataset(Dataset):\n",
    "    def __init__(self, subset, transform=None):\n",
    "        self.subset = subset\n",
    "        self.transform = transform\n",
    "    \n",
    "    def __len__(self):\n",
    "        return len(self.subset)\n",
    "    \n",
    "    def __getitem__(self, idx):\n",
    "        img, label = self.subset[idx]\n",
    "        if self.transform:\n",
    "            img = self.transform(img)\n",
    "        return img, label\n",
    "\n",
    "class UnlabeledDataset(Dataset):\n",
    "    def __init__(self, subset, weak_transform=None, strong_transform=None):\n",
    "        self.subset = subset\n",
    "        self.weak_transform = weak_transform\n",
    "        self.strong_transform = strong_transform\n",
    "    \n",
    "    def __len__(self):\n",
    "        return len(self.subset)\n",
    "    \n",
    "    def __getitem__(self, idx):\n",
    "        img, _ = self.subset[idx]\n",
    "        weak_img = self.weak_transform(img) if self.weak_transform else img\n",
    "        strong_img = self.strong_transform(img) if self.strong_transform else img\n",
    "        return weak_img, strong_img\n"
   ]
  },
  {
   "cell_type": "markdown",
   "id": "8058ac69",
   "metadata": {
    "papermill": {
     "duration": 0.003229,
     "end_time": "2025-08-30T17:51:49.702165",
     "exception": false,
     "start_time": "2025-08-30T17:51:49.698936",
     "status": "completed"
    },
    "tags": []
   },
   "source": [
    "# Instantiate Datasets with Transforms"
   ]
  },
  {
   "cell_type": "code",
   "execution_count": 10,
   "id": "21c6cc6a",
   "metadata": {
    "execution": {
     "iopub.execute_input": "2025-08-30T17:51:49.709643Z",
     "iopub.status.busy": "2025-08-30T17:51:49.709439Z",
     "iopub.status.idle": "2025-08-30T17:51:49.713011Z",
     "shell.execute_reply": "2025-08-30T17:51:49.712329Z"
    },
    "papermill": {
     "duration": 0.008618,
     "end_time": "2025-08-30T17:51:49.714158",
     "exception": false,
     "start_time": "2025-08-30T17:51:49.705540",
     "status": "completed"
    },
    "tags": []
   },
   "outputs": [],
   "source": [
    "labeled_dataset = LabeledDataset(labeled_subset, transform=base_transform)\n",
    "unlabeled_dataset = UnlabeledDataset(unlabeled_subset, weak_transform=weak_transform, strong_transform=strong_transform)\n",
    "val_dataset = LabeledDataset(val_subset, transform=base_transform)\n",
    "test_dataset = LabeledDataset(test_subset, transform=base_transform)\n"
   ]
  },
  {
   "cell_type": "markdown",
   "id": "f8c078ca",
   "metadata": {
    "papermill": {
     "duration": 0.003421,
     "end_time": "2025-08-30T17:51:49.721078",
     "exception": false,
     "start_time": "2025-08-30T17:51:49.717657",
     "status": "completed"
    },
    "tags": []
   },
   "source": [
    "# Data Loader"
   ]
  },
  {
   "cell_type": "code",
   "execution_count": 11,
   "id": "7f107aa2",
   "metadata": {
    "execution": {
     "iopub.execute_input": "2025-08-30T17:51:49.728771Z",
     "iopub.status.busy": "2025-08-30T17:51:49.728337Z",
     "iopub.status.idle": "2025-08-30T17:51:49.732189Z",
     "shell.execute_reply": "2025-08-30T17:51:49.731676Z"
    },
    "papermill": {
     "duration": 0.00872,
     "end_time": "2025-08-30T17:51:49.733173",
     "exception": false,
     "start_time": "2025-08-30T17:51:49.724453",
     "status": "completed"
    },
    "tags": []
   },
   "outputs": [],
   "source": [
    "labeled_loader = DataLoader(labeled_dataset, batch_size=32, shuffle=True, drop_last=True)\n",
    "unlabeled_loader = DataLoader(unlabeled_dataset, batch_size=32, shuffle=True, drop_last=True)\n",
    "val_loader = DataLoader(val_dataset, batch_size=32, shuffle=False)\n",
    "test_loader = DataLoader(test_dataset, batch_size=32, shuffle=False)\n"
   ]
  },
  {
   "cell_type": "markdown",
   "id": "f754675f",
   "metadata": {
    "papermill": {
     "duration": 0.003417,
     "end_time": "2025-08-30T17:51:49.740083",
     "exception": false,
     "start_time": "2025-08-30T17:51:49.736666",
     "status": "completed"
    },
    "tags": []
   },
   "source": [
    "# Define Model, Freeze Backbone, Optimizer"
   ]
  },
  {
   "cell_type": "code",
   "execution_count": 12,
   "id": "2a065560",
   "metadata": {
    "execution": {
     "iopub.execute_input": "2025-08-30T17:51:49.748024Z",
     "iopub.status.busy": "2025-08-30T17:51:49.747849Z",
     "iopub.status.idle": "2025-08-30T17:51:51.379359Z",
     "shell.execute_reply": "2025-08-30T17:51:51.378763Z"
    },
    "papermill": {
     "duration": 1.63716,
     "end_time": "2025-08-30T17:51:51.380698",
     "exception": false,
     "start_time": "2025-08-30T17:51:49.743538",
     "status": "completed"
    },
    "tags": []
   },
   "outputs": [],
   "source": [
    "num_classes = len(full_dataset.classes)\n",
    "\n",
    "# Change backbone to ViT-Base-16\n",
    "model = timm.create_model('vit_base_patch16_224', pretrained=False, num_classes=num_classes)\n",
    "model = model.to(device)\n",
    "\n",
    "def freeze_backbone(model, freeze=True):\n",
    "    total_params = len(list(model.parameters()))\n",
    "    freeze_count = int(0.25 * total_params)\n",
    "    for i, param in enumerate(model.parameters()):\n",
    "        param.requires_grad = not (freeze and i < freeze_count)\n",
    "\n",
    "# Freeze first 25% of layers\n",
    "freeze_backbone(model, freeze=True)\n",
    "\n",
    "optimizer = torch.optim.Adam(model.parameters(), lr=1e-4)\n"
   ]
  },
  {
   "cell_type": "markdown",
   "id": "bfd4f6e2",
   "metadata": {
    "papermill": {
     "duration": 0.003537,
     "end_time": "2025-08-30T17:51:51.388340",
     "exception": false,
     "start_time": "2025-08-30T17:51:51.384803",
     "status": "completed"
    },
    "tags": []
   },
   "source": [
    "# Validation Function"
   ]
  },
  {
   "cell_type": "code",
   "execution_count": 13,
   "id": "a992cae3",
   "metadata": {
    "execution": {
     "iopub.execute_input": "2025-08-30T17:51:51.396133Z",
     "iopub.status.busy": "2025-08-30T17:51:51.395937Z",
     "iopub.status.idle": "2025-08-30T17:51:51.400909Z",
     "shell.execute_reply": "2025-08-30T17:51:51.400195Z"
    },
    "papermill": {
     "duration": 0.010271,
     "end_time": "2025-08-30T17:51:51.402071",
     "exception": false,
     "start_time": "2025-08-30T17:51:51.391800",
     "status": "completed"
    },
    "tags": []
   },
   "outputs": [],
   "source": [
    "def validate(model, dataloader):\n",
    "    model.eval()\n",
    "    all_preds, all_labels = [], []\n",
    "    with torch.no_grad():\n",
    "        for imgs, labels in dataloader:\n",
    "            imgs, labels = imgs.to(device), labels.to(device)\n",
    "            outputs = model(imgs)\n",
    "            preds = outputs.argmax(dim=1)\n",
    "            all_preds.extend(preds.cpu().numpy())\n",
    "            all_labels.extend(labels.cpu().numpy())\n",
    "    acc = accuracy_score(all_labels, all_preds)\n",
    "    prec, rec, f1, _ = precision_recall_fscore_support(all_labels, all_preds, average='weighted', zero_division=0)\n",
    "    return acc, prec, rec, f1\n"
   ]
  },
  {
   "cell_type": "markdown",
   "id": "28b98f20",
   "metadata": {
    "papermill": {
     "duration": 0.004517,
     "end_time": "2025-08-30T17:51:51.410513",
     "exception": false,
     "start_time": "2025-08-30T17:51:51.405996",
     "status": "completed"
    },
    "tags": []
   },
   "source": [
    "# Training Loop(Fix Match)"
   ]
  },
  {
   "cell_type": "code",
   "execution_count": 14,
   "id": "386be2a5",
   "metadata": {
    "execution": {
     "iopub.execute_input": "2025-08-30T17:51:51.418829Z",
     "iopub.status.busy": "2025-08-30T17:51:51.418602Z",
     "iopub.status.idle": "2025-08-30T19:55:59.294783Z",
     "shell.execute_reply": "2025-08-30T19:55:59.294059Z"
    },
    "papermill": {
     "duration": 7447.888429,
     "end_time": "2025-08-30T19:55:59.302856",
     "exception": false,
     "start_time": "2025-08-30T17:51:51.414427",
     "status": "completed"
    },
    "tags": []
   },
   "outputs": [
    {
     "name": "stdout",
     "output_type": "stream",
     "text": [
      "Epoch 1/75 | Sup Loss: 1.0542 | Unsup Loss: 0.0081\n",
      "Val Acc: 0.5588 | Val Prec: 0.5588 | Val Rec: 0.5588 | Val F1: 0.5566\n",
      "Epoch 2/75 | Sup Loss: 0.6566 | Unsup Loss: 0.0000\n",
      "Val Acc: 0.5378 | Val Prec: 0.5376 | Val Rec: 0.5378 | Val F1: 0.5339\n",
      "Epoch 3/75 | Sup Loss: 0.6547 | Unsup Loss: 0.0001\n",
      "Val Acc: 0.5378 | Val Prec: 0.5884 | Val Rec: 0.5378 | Val F1: 0.4725\n",
      "Epoch 4/75 | Sup Loss: 0.6444 | Unsup Loss: 0.0004\n",
      "Val Acc: 0.5756 | Val Prec: 0.5813 | Val Rec: 0.5756 | Val F1: 0.5639\n",
      "Epoch 5/75 | Sup Loss: 0.6381 | Unsup Loss: 0.0018\n",
      "Val Acc: 0.5504 | Val Prec: 0.5507 | Val Rec: 0.5504 | Val F1: 0.5462\n",
      "Epoch 6: Unfroze backbone layers\n",
      "Epoch 6/75 | Sup Loss: 0.7815 | Unsup Loss: 0.0026\n",
      "Val Acc: 0.4790 | Val Prec: 0.4078 | Val Rec: 0.4790 | Val F1: 0.3389\n",
      "Epoch 7/75 | Sup Loss: 0.7213 | Unsup Loss: 0.0012\n",
      "Val Acc: 0.5126 | Val Prec: 0.7553 | Val Rec: 0.5126 | Val F1: 0.3690\n",
      "Epoch 8/75 | Sup Loss: 0.6957 | Unsup Loss: 0.0000\n",
      "Val Acc: 0.5546 | Val Prec: 0.5549 | Val Rec: 0.5546 | Val F1: 0.5508\n",
      "Epoch 9/75 | Sup Loss: 0.6644 | Unsup Loss: 0.0000\n",
      "Val Acc: 0.5630 | Val Prec: 0.5656 | Val Rec: 0.5630 | Val F1: 0.5611\n",
      "Epoch 10/75 | Sup Loss: 0.6472 | Unsup Loss: 0.0004\n",
      "Val Acc: 0.5672 | Val Prec: 0.5671 | Val Rec: 0.5672 | Val F1: 0.5660\n",
      "Epoch 11/75 | Sup Loss: 0.6252 | Unsup Loss: 0.0089\n",
      "Val Acc: 0.5882 | Val Prec: 0.5911 | Val Rec: 0.5882 | Val F1: 0.5825\n",
      "Epoch 12/75 | Sup Loss: 0.6358 | Unsup Loss: 0.0127\n",
      "Val Acc: 0.6134 | Val Prec: 0.6693 | Val Rec: 0.6134 | Val F1: 0.5743\n",
      "Epoch 13/75 | Sup Loss: 0.6265 | Unsup Loss: 0.0116\n",
      "Val Acc: 0.5798 | Val Prec: 0.5822 | Val Rec: 0.5798 | Val F1: 0.5740\n",
      "Epoch 14/75 | Sup Loss: 0.6305 | Unsup Loss: 0.0108\n",
      "Val Acc: 0.5924 | Val Prec: 0.5931 | Val Rec: 0.5924 | Val F1: 0.5904\n",
      "Epoch 15/75 | Sup Loss: 0.6081 | Unsup Loss: 0.0239\n",
      "Val Acc: 0.6471 | Val Prec: 0.6900 | Val Rec: 0.6471 | Val F1: 0.6230\n",
      "Epoch 16/75 | Sup Loss: 0.5878 | Unsup Loss: 0.0309\n",
      "Val Acc: 0.6387 | Val Prec: 0.6718 | Val Rec: 0.6387 | Val F1: 0.6174\n",
      "Epoch 17/75 | Sup Loss: 0.5716 | Unsup Loss: 0.0341\n",
      "Val Acc: 0.6050 | Val Prec: 0.6794 | Val Rec: 0.6050 | Val F1: 0.5544\n",
      "Epoch 18/75 | Sup Loss: 0.5791 | Unsup Loss: 0.0335\n",
      "Val Acc: 0.6597 | Val Prec: 0.6932 | Val Rec: 0.6597 | Val F1: 0.6419\n",
      "Epoch 19/75 | Sup Loss: 0.5687 | Unsup Loss: 0.0367\n",
      "Val Acc: 0.6092 | Val Prec: 0.6102 | Val Rec: 0.6092 | Val F1: 0.6073\n",
      "Epoch 20/75 | Sup Loss: 0.5637 | Unsup Loss: 0.0362\n",
      "Val Acc: 0.6345 | Val Prec: 0.6426 | Val Rec: 0.6345 | Val F1: 0.6273\n",
      "Epoch 21/75 | Sup Loss: 0.6204 | Unsup Loss: 0.0413\n",
      "Val Acc: 0.6008 | Val Prec: 0.6100 | Val Rec: 0.6008 | Val F1: 0.5949\n",
      "Epoch 22/75 | Sup Loss: 0.5651 | Unsup Loss: 0.0396\n",
      "Val Acc: 0.6303 | Val Prec: 0.6465 | Val Rec: 0.6303 | Val F1: 0.6172\n",
      "Epoch 23/75 | Sup Loss: 0.5128 | Unsup Loss: 0.0490\n",
      "Val Acc: 0.5798 | Val Prec: 0.6606 | Val Rec: 0.5798 | Val F1: 0.5128\n",
      "Epoch 24/75 | Sup Loss: 0.5706 | Unsup Loss: 0.0323\n",
      "Val Acc: 0.6387 | Val Prec: 0.6524 | Val Rec: 0.6387 | Val F1: 0.6281\n",
      "Epoch 25/75 | Sup Loss: 0.5174 | Unsup Loss: 0.0429\n",
      "Val Acc: 0.6429 | Val Prec: 0.6434 | Val Rec: 0.6429 | Val F1: 0.6428\n",
      "Epoch 26/75 | Sup Loss: 0.4991 | Unsup Loss: 0.0414\n",
      "Val Acc: 0.6092 | Val Prec: 0.6098 | Val Rec: 0.6092 | Val F1: 0.6077\n",
      "Epoch 27/75 | Sup Loss: 0.4563 | Unsup Loss: 0.0731\n",
      "Val Acc: 0.6050 | Val Prec: 0.6242 | Val Rec: 0.6050 | Val F1: 0.5924\n",
      "Epoch 28/75 | Sup Loss: 0.4886 | Unsup Loss: 0.0670\n",
      "Val Acc: 0.5798 | Val Prec: 0.5854 | Val Rec: 0.5798 | Val F1: 0.5756\n",
      "Epoch 29/75 | Sup Loss: 0.4751 | Unsup Loss: 0.0777\n",
      "Val Acc: 0.6471 | Val Prec: 0.6503 | Val Rec: 0.6471 | Val F1: 0.6440\n",
      "Epoch 30/75 | Sup Loss: 0.4261 | Unsup Loss: 0.0701\n",
      "Val Acc: 0.6639 | Val Prec: 0.6639 | Val Rec: 0.6639 | Val F1: 0.6639\n",
      "Epoch 31/75 | Sup Loss: 0.5027 | Unsup Loss: 0.1066\n",
      "Val Acc: 0.6471 | Val Prec: 0.6569 | Val Rec: 0.6471 | Val F1: 0.6397\n",
      "Epoch 32/75 | Sup Loss: 0.4346 | Unsup Loss: 0.1067\n",
      "Val Acc: 0.6261 | Val Prec: 0.6361 | Val Rec: 0.6261 | Val F1: 0.6168\n",
      "Epoch 33/75 | Sup Loss: 0.3988 | Unsup Loss: 0.1223\n",
      "Val Acc: 0.5672 | Val Prec: 0.6006 | Val Rec: 0.5672 | Val F1: 0.5348\n",
      "Epoch 34/75 | Sup Loss: 0.3538 | Unsup Loss: 0.1436\n",
      "Val Acc: 0.6429 | Val Prec: 0.6665 | Val Rec: 0.6429 | Val F1: 0.6320\n",
      "Epoch 35/75 | Sup Loss: 0.3722 | Unsup Loss: 0.1234\n",
      "Val Acc: 0.6429 | Val Prec: 0.6504 | Val Rec: 0.6429 | Val F1: 0.6367\n",
      "Epoch 36/75 | Sup Loss: 0.4103 | Unsup Loss: 0.1103\n",
      "Val Acc: 0.6555 | Val Prec: 0.6833 | Val Rec: 0.6555 | Val F1: 0.6395\n",
      "Epoch 37/75 | Sup Loss: 0.3364 | Unsup Loss: 0.1409\n",
      "Val Acc: 0.6176 | Val Prec: 0.6184 | Val Rec: 0.6176 | Val F1: 0.6175\n",
      "Epoch 38/75 | Sup Loss: 0.3406 | Unsup Loss: 0.1456\n",
      "Val Acc: 0.6387 | Val Prec: 0.6402 | Val Rec: 0.6387 | Val F1: 0.6383\n",
      "Epoch 39/75 | Sup Loss: 0.3333 | Unsup Loss: 0.1504\n",
      "Val Acc: 0.5924 | Val Prec: 0.6046 | Val Rec: 0.5924 | Val F1: 0.5835\n",
      "Epoch 40/75 | Sup Loss: 0.3286 | Unsup Loss: 0.1829\n",
      "Val Acc: 0.6429 | Val Prec: 0.6517 | Val Rec: 0.6429 | Val F1: 0.6359\n",
      "Epoch 41/75 | Sup Loss: 0.3038 | Unsup Loss: 0.1581\n",
      "Val Acc: 0.6387 | Val Prec: 0.6391 | Val Rec: 0.6387 | Val F1: 0.6378\n",
      "Epoch 42/75 | Sup Loss: 0.2916 | Unsup Loss: 0.1627\n",
      "Val Acc: 0.6471 | Val Prec: 0.6514 | Val Rec: 0.6471 | Val F1: 0.6455\n",
      "Epoch 43/75 | Sup Loss: 0.3030 | Unsup Loss: 0.1606\n",
      "Val Acc: 0.6513 | Val Prec: 0.6552 | Val Rec: 0.6513 | Val F1: 0.6499\n",
      "Epoch 44/75 | Sup Loss: 0.2691 | Unsup Loss: 0.1874\n",
      "Val Acc: 0.6891 | Val Prec: 0.6915 | Val Rec: 0.6891 | Val F1: 0.6885\n",
      "Epoch 45/75 | Sup Loss: 0.2772 | Unsup Loss: 0.1616\n",
      "Val Acc: 0.6176 | Val Prec: 0.6177 | Val Rec: 0.6176 | Val F1: 0.6177\n",
      "Epoch 46/75 | Sup Loss: 0.3288 | Unsup Loss: 0.1587\n",
      "Val Acc: 0.6134 | Val Prec: 0.6360 | Val Rec: 0.6134 | Val F1: 0.5998\n",
      "Epoch 47/75 | Sup Loss: 0.2557 | Unsup Loss: 0.1435\n",
      "Val Acc: 0.6471 | Val Prec: 0.6900 | Val Rec: 0.6471 | Val F1: 0.6230\n",
      "Epoch 48/75 | Sup Loss: 0.3139 | Unsup Loss: 0.1719\n",
      "Val Acc: 0.6050 | Val Prec: 0.6079 | Val Rec: 0.6050 | Val F1: 0.6037\n",
      "Epoch 49/75 | Sup Loss: 0.2670 | Unsup Loss: 0.1598\n",
      "Val Acc: 0.6387 | Val Prec: 0.6658 | Val Rec: 0.6387 | Val F1: 0.6205\n",
      "Epoch 50/75 | Sup Loss: 0.2489 | Unsup Loss: 0.1427\n",
      "Val Acc: 0.6050 | Val Prec: 0.6192 | Val Rec: 0.6050 | Val F1: 0.5958\n",
      "Epoch 51/75 | Sup Loss: 0.1657 | Unsup Loss: 0.2486\n",
      "Val Acc: 0.6303 | Val Prec: 0.6302 | Val Rec: 0.6303 | Val F1: 0.6302\n",
      "Epoch 52/75 | Sup Loss: 0.1810 | Unsup Loss: 0.1767\n",
      "Val Acc: 0.6218 | Val Prec: 0.6218 | Val Rec: 0.6218 | Val F1: 0.6216\n",
      "Epoch 53/75 | Sup Loss: 0.2133 | Unsup Loss: 0.1720\n",
      "Val Acc: 0.6471 | Val Prec: 0.6571 | Val Rec: 0.6471 | Val F1: 0.6428\n",
      "Epoch 54/75 | Sup Loss: 0.2503 | Unsup Loss: 0.1468\n",
      "Val Acc: 0.6723 | Val Prec: 0.6811 | Val Rec: 0.6723 | Val F1: 0.6670\n",
      "Epoch 55/75 | Sup Loss: 0.1970 | Unsup Loss: 0.1986\n",
      "Val Acc: 0.6723 | Val Prec: 0.6730 | Val Rec: 0.6723 | Val F1: 0.6722\n",
      "Epoch 56/75 | Sup Loss: 0.1739 | Unsup Loss: 0.2060\n",
      "Val Acc: 0.6218 | Val Prec: 0.6220 | Val Rec: 0.6218 | Val F1: 0.6212\n",
      "Epoch 57/75 | Sup Loss: 0.1734 | Unsup Loss: 0.1719\n",
      "Val Acc: 0.6723 | Val Prec: 0.6747 | Val Rec: 0.6723 | Val F1: 0.6704\n",
      "Epoch 58/75 | Sup Loss: 0.1666 | Unsup Loss: 0.1973\n",
      "Val Acc: 0.6134 | Val Prec: 0.6158 | Val Rec: 0.6134 | Val F1: 0.6125\n",
      "Epoch 59/75 | Sup Loss: 0.2110 | Unsup Loss: 0.2265\n",
      "Val Acc: 0.6261 | Val Prec: 0.6312 | Val Rec: 0.6261 | Val F1: 0.6237\n",
      "Epoch 60/75 | Sup Loss: 0.2114 | Unsup Loss: 0.1533\n",
      "Val Acc: 0.5966 | Val Prec: 0.5988 | Val Rec: 0.5966 | Val F1: 0.5956\n",
      "Epoch 61/75 | Sup Loss: 0.1231 | Unsup Loss: 0.2120\n",
      "Val Acc: 0.6471 | Val Prec: 0.6514 | Val Rec: 0.6471 | Val F1: 0.6455\n",
      "Epoch 62/75 | Sup Loss: 0.1227 | Unsup Loss: 0.2209\n",
      "Val Acc: 0.6555 | Val Prec: 0.6620 | Val Rec: 0.6555 | Val F1: 0.6506\n",
      "Epoch 63/75 | Sup Loss: 0.0918 | Unsup Loss: 0.2570\n",
      "Val Acc: 0.6261 | Val Prec: 0.6433 | Val Rec: 0.6261 | Val F1: 0.6168\n",
      "Epoch 64/75 | Sup Loss: 0.1815 | Unsup Loss: 0.1815\n",
      "Val Acc: 0.6639 | Val Prec: 0.6877 | Val Rec: 0.6639 | Val F1: 0.6508\n",
      "Epoch 65/75 | Sup Loss: 0.1654 | Unsup Loss: 0.1816\n",
      "Val Acc: 0.6681 | Val Prec: 0.6695 | Val Rec: 0.6681 | Val F1: 0.6668\n",
      "Epoch 66/75 | Sup Loss: 0.1523 | Unsup Loss: 0.2189\n",
      "Val Acc: 0.6092 | Val Prec: 0.6136 | Val Rec: 0.6092 | Val F1: 0.6034\n",
      "Epoch 67/75 | Sup Loss: 0.1396 | Unsup Loss: 0.2069\n",
      "Val Acc: 0.6513 | Val Prec: 0.6512 | Val Rec: 0.6513 | Val F1: 0.6512\n",
      "Epoch 68/75 | Sup Loss: 0.2084 | Unsup Loss: 0.2329\n",
      "Val Acc: 0.6807 | Val Prec: 0.6850 | Val Rec: 0.6807 | Val F1: 0.6779\n",
      "Epoch 69/75 | Sup Loss: 0.1761 | Unsup Loss: 0.1680\n",
      "Val Acc: 0.5966 | Val Prec: 0.6124 | Val Rec: 0.5966 | Val F1: 0.5780\n",
      "Epoch 70/75 | Sup Loss: 0.1367 | Unsup Loss: 0.2116\n",
      "Val Acc: 0.6513 | Val Prec: 0.6581 | Val Rec: 0.6513 | Val F1: 0.6460\n",
      "Epoch 71/75 | Sup Loss: 0.1119 | Unsup Loss: 0.1770\n",
      "Val Acc: 0.6008 | Val Prec: 0.6079 | Val Rec: 0.6008 | Val F1: 0.5964\n",
      "Epoch 72/75 | Sup Loss: 0.1968 | Unsup Loss: 0.1548\n",
      "Val Acc: 0.6471 | Val Prec: 0.6503 | Val Rec: 0.6471 | Val F1: 0.6440\n",
      "Epoch 73/75 | Sup Loss: 0.1174 | Unsup Loss: 0.1793\n",
      "Val Acc: 0.6723 | Val Prec: 0.6949 | Val Rec: 0.6723 | Val F1: 0.6607\n",
      "Epoch 74/75 | Sup Loss: 0.1309 | Unsup Loss: 0.2109\n",
      "Val Acc: 0.6681 | Val Prec: 0.6843 | Val Rec: 0.6681 | Val F1: 0.6589\n",
      "Epoch 75/75 | Sup Loss: 0.0716 | Unsup Loss: 0.2016\n",
      "Val Acc: 0.6597 | Val Prec: 0.6731 | Val Rec: 0.6597 | Val F1: 0.6512\n"
     ]
    }
   ],
   "source": [
    "num_epochs = 75\n",
    "freeze_epochs = 5\n",
    "tau = 0.9\n",
    "lambda_u = 1.0\n",
    "\n",
    "train_sup_losses = []\n",
    "train_unsup_losses = []\n",
    "val_accuracies = []\n",
    "val_precisions = []\n",
    "val_recalls = []\n",
    "val_f1s = []\n",
    "\n",
    "for epoch in range(1, num_epochs+1):\n",
    "    model.train()\n",
    "    \n",
    "    if epoch == freeze_epochs + 1:\n",
    "        freeze_backbone(model, freeze=False)\n",
    "        print(f\"Epoch {epoch}: Unfroze backbone layers\")\n",
    "    \n",
    "    sup_loss_running = 0.0\n",
    "    unsup_loss_running = 0.0\n",
    "    batches = 0\n",
    "    \n",
    "    for (x_labeled, y_labeled), (x_unl_weak, x_unl_strong) in zip(labeled_loader, unlabeled_loader):\n",
    "        x_labeled, y_labeled = x_labeled.to(device), y_labeled.to(device)\n",
    "        x_unl_weak, x_unl_strong = x_unl_weak.to(device), x_unl_strong.to(device)\n",
    "        \n",
    "        optimizer.zero_grad()\n",
    "        \n",
    "        # Supervised loss\n",
    "        logits_labeled = model(x_labeled)\n",
    "        loss_sup = F.cross_entropy(logits_labeled, y_labeled)\n",
    "        \n",
    "        # Pseudo-label generation on weak augmented unlabeled images\n",
    "        with torch.no_grad():\n",
    "            preds_unl_weak = F.softmax(model(x_unl_weak), dim=1)\n",
    "            max_probs, pseudo_labels = torch.max(preds_unl_weak, dim=1)\n",
    "            mask = (max_probs >= tau).float()\n",
    "        \n",
    "        # Unsupervised loss on strong augmented images\n",
    "        logits_unl_strong = model(x_unl_strong)\n",
    "        loss_unsup_all = F.cross_entropy(logits_unl_strong, pseudo_labels, reduction='none')\n",
    "        loss_unsup = (loss_unsup_all * mask).mean()\n",
    "        \n",
    "        loss = loss_sup + lambda_u * loss_unsup\n",
    "        loss.backward()\n",
    "        optimizer.step()\n",
    "        \n",
    "        sup_loss_running += loss_sup.item()\n",
    "        unsup_loss_running += loss_unsup.item()\n",
    "        batches += 1\n",
    "    \n",
    "    avg_sup_loss = sup_loss_running / batches\n",
    "    avg_unsup_loss = unsup_loss_running / batches\n",
    "    \n",
    "    train_sup_losses.append(avg_sup_loss)\n",
    "    train_unsup_losses.append(avg_unsup_loss)\n",
    "    \n",
    "    val_acc, val_prec, val_rec, val_f1 = validate(model, val_loader)\n",
    "    val_accuracies.append(val_acc)\n",
    "    val_precisions.append(val_prec)\n",
    "    val_recalls.append(val_rec)\n",
    "    val_f1s.append(val_f1)\n",
    "    \n",
    "    print(f\"Epoch {epoch}/{num_epochs} | Sup Loss: {avg_sup_loss:.4f} | Unsup Loss: {avg_unsup_loss:.4f}\")\n",
    "    print(f\"Val Acc: {val_acc:.4f} | Val Prec: {val_prec:.4f} | Val Rec: {val_rec:.4f} | Val F1: {val_f1:.4f}\")\n"
   ]
  },
  {
   "cell_type": "markdown",
   "id": "ab92df16",
   "metadata": {
    "papermill": {
     "duration": 0.006322,
     "end_time": "2025-08-30T19:55:59.315701",
     "exception": false,
     "start_time": "2025-08-30T19:55:59.309379",
     "status": "completed"
    },
    "tags": []
   },
   "source": [
    "# Plot Training Curves"
   ]
  },
  {
   "cell_type": "code",
   "execution_count": 15,
   "id": "219c3f50",
   "metadata": {
    "execution": {
     "iopub.execute_input": "2025-08-30T19:55:59.329176Z",
     "iopub.status.busy": "2025-08-30T19:55:59.328970Z",
     "iopub.status.idle": "2025-08-30T19:55:59.675072Z",
     "shell.execute_reply": "2025-08-30T19:55:59.674263Z"
    },
    "papermill": {
     "duration": 0.354997,
     "end_time": "2025-08-30T19:55:59.677002",
     "exception": false,
     "start_time": "2025-08-30T19:55:59.322005",
     "status": "completed"
    },
    "tags": []
   },
   "outputs": [
    {
     "data": {
      "image/png": "[encoded data removed]",
      "text/plain": [
       "<Figure size 1600x500 with 2 Axes>"
      ]
     },
     "metadata": {},
     "output_type": "display_data"
    }
   ],
   "source": [
    "plt.figure(figsize=(16,5))\n",
    "\n",
    "plt.subplot(1,2,1)\n",
    "plt.plot(train_sup_losses, label='Supervised Loss')\n",
    "plt.plot(train_unsup_losses, label='Unsupervised Loss')\n",
    "plt.title(\"Training Losses\")\n",
    "plt.xlabel(\"Epoch\")\n",
    "plt.ylabel(\"Loss\")\n",
    "plt.legend()\n",
    "\n",
    "plt.subplot(1,2,2)\n",
    "plt.plot(val_accuracies, label='Validation Accuracy')\n",
    "plt.plot(val_precisions, label='Validation Precision')\n",
    "plt.plot(val_recalls, label='Validation Recall')\n",
    "plt.plot(val_f1s, label='Validation F1')\n",
    "plt.title(\"Validation Metrics\")\n",
    "plt.xlabel(\"Epoch\")\n",
    "plt.ylabel(\"Score\")\n",
    "plt.legend()\n",
    "\n",
    "plt.show()\n"
   ]
  },
  {
   "cell_type": "markdown",
   "id": "1a80c998",
   "metadata": {
    "papermill": {
     "duration": 0.007682,
     "end_time": "2025-08-30T19:55:59.692612",
     "exception": false,
     "start_time": "2025-08-30T19:55:59.684930",
     "status": "completed"
    },
    "tags": []
   },
   "source": [
    "# Classification Report"
   ]
  },
  {
   "cell_type": "code",
   "execution_count": 16,
   "id": "7c24497c",
   "metadata": {
    "execution": {
     "iopub.execute_input": "2025-08-30T19:55:59.709240Z",
     "iopub.status.busy": "2025-08-30T19:55:59.709030Z",
     "iopub.status.idle": "2025-08-30T19:56:07.478599Z",
     "shell.execute_reply": "2025-08-30T19:56:07.477885Z"
    },
    "papermill": {
     "duration": 7.779347,
     "end_time": "2025-08-30T19:56:07.479830",
     "exception": false,
     "start_time": "2025-08-30T19:55:59.700483",
     "status": "completed"
    },
    "tags": []
   },
   "outputs": [
    {
     "name": "stdout",
     "output_type": "stream",
     "text": [
      "                          precision    recall  f1-score     support\n",
      "Comminuted Bone Fracture   0.719512  0.504274  0.592965  117.000000\n",
      "Simple Bone Fracture       0.628205  0.809917  0.707581  121.000000\n",
      "accuracy                   0.659664  0.659664  0.659664    0.659664\n",
      "macro avg                  0.673859  0.657095  0.650273  238.000000\n",
      "weighted avg               0.673091  0.659664  0.651236  238.000000\n"
     ]
    },
    {
     "data": {
      "text/html": [
       "<div>\n",
       "<style scoped>\n",
       "    .dataframe tbody tr th:only-of-type {\n",
       "        vertical-align: middle;\n",
       "    }\n",
       "\n",
       "    .dataframe tbody tr th {\n",
       "        vertical-align: top;\n",
       "    }\n",
       "\n",
       "    .dataframe thead th {\n",
       "        text-align: right;\n",
       "    }\n",
       "</style>\n",
       "<table border=\"1\" class=\"dataframe\">\n",
       "  <thead>\n",
       "    <tr style=\"text-align: right;\">\n",
       "      <th></th>\n",
       "      <th>precision</th>\n",
       "      <th>recall</th>\n",
       "      <th>f1-score</th>\n",
       "      <th>support</th>\n",
       "    </tr>\n",
       "  </thead>\n",
       "  <tbody>\n",
       "    <tr>\n",
       "      <th>Comminuted Bone Fracture</th>\n",
       "      <td>0.719512</td>\n",
       "      <td>0.504274</td>\n",
       "      <td>0.592965</td>\n",
       "      <td>117.000000</td>\n",
       "    </tr>\n",
       "    <tr>\n",
       "      <th>Simple Bone Fracture</th>\n",
       "      <td>0.628205</td>\n",
       "      <td>0.809917</td>\n",
       "      <td>0.707581</td>\n",
       "      <td>121.000000</td>\n",
       "    </tr>\n",
       "    <tr>\n",
       "      <th>accuracy</th>\n",
       "      <td>0.659664</td>\n",
       "      <td>0.659664</td>\n",
       "      <td>0.659664</td>\n",
       "      <td>0.659664</td>\n",
       "    </tr>\n",
       "    <tr>\n",
       "      <th>macro avg</th>\n",
       "      <td>0.673859</td>\n",
       "      <td>0.657095</td>\n",
       "      <td>0.650273</td>\n",
       "      <td>238.000000</td>\n",
       "    </tr>\n",
       "    <tr>\n",
       "      <th>weighted avg</th>\n",
       "      <td>0.673091</td>\n",
       "      <td>0.659664</td>\n",
       "      <td>0.651236</td>\n",
       "      <td>238.000000</td>\n",
       "    </tr>\n",
       "  </tbody>\n",
       "</table>\n",
       "</div>"
      ],
      "text/plain": [
       "                          precision    recall  f1-score     support\n",
       "Comminuted Bone Fracture   0.719512  0.504274  0.592965  117.000000\n",
       "Simple Bone Fracture       0.628205  0.809917  0.707581  121.000000\n",
       "accuracy                   0.659664  0.659664  0.659664    0.659664\n",
       "macro avg                  0.673859  0.657095  0.650273  238.000000\n",
       "weighted avg               0.673091  0.659664  0.651236  238.000000"
      ]
     },
     "metadata": {},
     "output_type": "display_data"
    },
    {
     "data": {
      "text/html": [
       "<div>\n",
       "<style scoped>\n",
       "    .dataframe tbody tr th:only-of-type {\n",
       "        vertical-align: middle;\n",
       "    }\n",
       "\n",
       "    .dataframe tbody tr th {\n",
       "        vertical-align: top;\n",
       "    }\n",
       "\n",
       "    .dataframe thead th {\n",
       "        text-align: right;\n",
       "    }\n",
       "</style>\n",
       "<table border=\"1\" class=\"dataframe\">\n",
       "  <thead>\n",
       "    <tr style=\"text-align: right;\">\n",
       "      <th></th>\n",
       "      <th>precision</th>\n",
       "      <th>recall</th>\n",
       "      <th>f1-score</th>\n",
       "      <th>support</th>\n",
       "    </tr>\n",
       "  </thead>\n",
       "  <tbody>\n",
       "    <tr>\n",
       "      <th>Comminuted Bone Fracture</th>\n",
       "      <td>0.719512</td>\n",
       "      <td>0.504274</td>\n",
       "      <td>0.592965</td>\n",
       "      <td>117.000000</td>\n",
       "    </tr>\n",
       "    <tr>\n",
       "      <th>Simple Bone Fracture</th>\n",
       "      <td>0.628205</td>\n",
       "      <td>0.809917</td>\n",
       "      <td>0.707581</td>\n",
       "      <td>121.000000</td>\n",
       "    </tr>\n",
       "    <tr>\n",
       "      <th>accuracy</th>\n",
       "      <td>0.659664</td>\n",
       "      <td>0.659664</td>\n",
       "      <td>0.659664</td>\n",
       "      <td>0.659664</td>\n",
       "    </tr>\n",
       "    <tr>\n",
       "      <th>macro avg</th>\n",
       "      <td>0.673859</td>\n",
       "      <td>0.657095</td>\n",
       "      <td>0.650273</td>\n",
       "      <td>238.000000</td>\n",
       "    </tr>\n",
       "    <tr>\n",
       "      <th>weighted avg</th>\n",
       "      <td>0.673091</td>\n",
       "      <td>0.659664</td>\n",
       "      <td>0.651236</td>\n",
       "      <td>238.000000</td>\n",
       "    </tr>\n",
       "  </tbody>\n",
       "</table>\n",
       "</div>"
      ],
      "text/plain": [
       "                          precision    recall  f1-score     support\n",
       "Comminuted Bone Fracture   0.719512  0.504274  0.592965  117.000000\n",
       "Simple Bone Fracture       0.628205  0.809917  0.707581  121.000000\n",
       "accuracy                   0.659664  0.659664  0.659664    0.659664\n",
       "macro avg                  0.673859  0.657095  0.650273  238.000000\n",
       "weighted avg               0.673091  0.659664  0.651236  238.000000"
      ]
     },
     "execution_count": 16,
     "metadata": {},
     "output_type": "execute_result"
    }
   ],
   "source": [
    "import pandas as pd\n",
    "from sklearn.metrics import classification_report\n",
    "\n",
    "def display_classification_report(model, dataloader, device, target_names=None):\n",
    "    model.eval()\n",
    "    all_preds = []\n",
    "    all_labels = []\n",
    "    with torch.no_grad():\n",
    "        for images, labels in dataloader:\n",
    "            images, labels = images.to(device), labels.to(device)\n",
    "            outputs = model(images)\n",
    "            preds = torch.argmax(outputs, dim=1)\n",
    "            all_preds.extend(preds.cpu().numpy())\n",
    "            all_labels.extend(labels.cpu().numpy())\n",
    "    \n",
    "    report_dict = classification_report(all_labels, all_preds, target_names=target_names, zero_division=0, output_dict=True)\n",
    "    df_report = pd.DataFrame(report_dict).transpose()\n",
    "    \n",
    "    print(df_report)   # Text print\n",
    "    display(df_report) # Nice table display (in Jupyter notebooks)\n",
    "    return df_report\n",
    "\n",
    "# Usage:\n",
    "class_names = full_dataset.classes\n",
    "display_classification_report(model, val_loader, device, target_names=class_names)\n"
   ]
  }
 ],
 "metadata": {
  "kaggle": {
   "accelerator": "nvidiaTeslaT4",
   "dataSources": [
    {
     "datasetId": 7889015,
     "sourceId": 12499976,
     "sourceType": "datasetVersion"
    }
   ],
   "dockerImageVersionId": 31090,
   "isGpuEnabled": true,
   "isInternetEnabled": true,
   "language": "python",
   "sourceType": "notebook"
  },
  "kernelspec": {
   "display_name": "Python 3",
   "language": "python",
   "name": "python3"
  },
  "language_info": {
   "codemirror_mode": {
    "name": "ipython",
    "version": 3
   },
   "file_extension": ".py",
   "mimetype": "text/x-python",
   "name": "python",
   "nbconvert_exporter": "python",
   "pygments_lexer": "ipython3",
   "version": "3.11.13"
  },
  "papermill": {
   "default_parameters": {},
   "duration": 7482.072909,
   "end_time": "2025-08-30T19:56:09.989044",
   "environment_variables": {},
   "exception": null,
   "input_path": "__notebook__.ipynb",
   "output_path": "__notebook__.ipynb",
   "parameters": {},
   "start_time": "2025-08-30T17:51:27.916135",
   "version": "2.6.0"
  }
 },
 "nbformat": 4,
 "nbformat_minor": 5
}
